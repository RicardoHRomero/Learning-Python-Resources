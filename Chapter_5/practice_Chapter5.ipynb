{
 "cells": [
  {
   "cell_type": "markdown",
   "metadata": {},
   "source": [
    "# Practice Chapter 5"
   ]
  },
  {
   "cell_type": "markdown",
   "metadata": {},
   "source": [
    "## Practice Questions\n",
    "\n",
    "1. What does the code for an empty dictionary look like?\n",
    "\n",
    "    SomeVariable = {}\n",
    "\n",
    "2. What does a dictionary value with a key 'foo' and a value 42 look like?\n",
    "   \n",
    "    Answer = {'foo' : 42}\n",
    "\n",
    "3. What is the main difference between a dictionary and a list?\n",
    "\n",
    "    Dictionary items are unordered, whereas lists are ordered.\n",
    "\n",
    "4. What happens if you try to access spam['foo'] if spam is {'bar': 100}?\n"
   ]
  },
  {
   "cell_type": "code",
   "execution_count": 1,
   "metadata": {},
   "outputs": [
    {
     "ename": "KeyError",
     "evalue": "'foo'",
     "output_type": "error",
     "traceback": [
      "\u001b[0;31m---------------------------------------------------------------------------\u001b[0m",
      "\u001b[0;31mKeyError\u001b[0m                                  Traceback (most recent call last)",
      "Cell \u001b[0;32mIn[1], line 2\u001b[0m\n\u001b[1;32m      1\u001b[0m spam \u001b[38;5;241m=\u001b[39m {\u001b[38;5;124m'\u001b[39m\u001b[38;5;124mbar\u001b[39m\u001b[38;5;124m'\u001b[39m : \u001b[38;5;241m100\u001b[39m}\n\u001b[0;32m----> 2\u001b[0m \u001b[43mspam\u001b[49m\u001b[43m[\u001b[49m\u001b[38;5;124;43m'\u001b[39;49m\u001b[38;5;124;43mfoo\u001b[39;49m\u001b[38;5;124;43m'\u001b[39;49m\u001b[43m]\u001b[49m\n",
      "\u001b[0;31mKeyError\u001b[0m: 'foo'"
     ]
    }
   ],
   "source": [
    "spam = {'bar' : 100}\n",
    "spam['foo']"
   ]
  },
  {
   "cell_type": "markdown",
   "metadata": {},
   "source": [
    "5. If a dictionary is stored in spam, what is the difference between the expressions 'cat' in spam and 'cat' in spam.keys()?\n",
    "\n",
    "    There is no difference.\n",
    "\n",
    "6. If a dictionary is stored in spam, what is the difference between the expressions 'cat' in spam and 'cat' in spam.values()?\n",
    "\n",
    "    The expression 'cat' in spam checks whether there is a 'cat' key in the dictionary, whereas 'cat' in spam.values() checks whether there is a value 'cat' associated with any key in spam.\n",
    "\n",
    "7. What is a shortcut for the following code?\n",
    "                 if 'color' not in spam:\n",
    "                     spam['color'] = 'black'\n",
    "    \n",
    "    spam.default('color','black')\n",
    "\n",
    "\n",
    "8. What module and function can be used to “pretty print” dictionary values?\n",
    "\n",
    "    pprint.pprint()"
   ]
  },
  {
   "cell_type": "markdown",
   "metadata": {},
   "source": [
    "\n",
    "## Practice Projects"
   ]
  },
  {
   "cell_type": "markdown",
   "metadata": {},
   "source": [
    "### Fantasy Game Inventory\n",
    "\n",
    "You are creating a fantasy video game. The data structure to model the player’s inventory will be a dictionary where the keys are string values describing the item in the inventory and the value is an integer value detail- ing how many of that item the player has. For example, the dictionary value {'rope': 1, 'torch': 6, 'gold coin': 42, 'dagger': 1, 'arrow': 12} means the player has 1 rope, 6 torches, 42 gold coins, and so on.\n",
    "Write a function named displayInventory() that would take any possible “inventory” and display it like the following:\n",
    "\n",
    "\n",
    "             Inventory:\n",
    "\n",
    "             12 arrow\n",
    "\n",
    "             42 gold coin\n",
    "\n",
    "             1 rope\n",
    "\n",
    "             6 torch\n",
    "\n",
    "             1 dagger\n",
    "             \n",
    "             Total number of items: 62"
   ]
  },
  {
   "cell_type": "markdown",
   "metadata": {},
   "source": [
    "My Code:"
   ]
  },
  {
   "cell_type": "code",
   "execution_count": 18,
   "metadata": {},
   "outputs": [
    {
     "name": "stdout",
     "output_type": "stream",
     "text": [
      "Inventory:\n",
      "1 rope\n",
      "6 torch\n",
      "42 gold coin\n",
      "1 dagger\n",
      "12 arrow\n",
      "Total number of items: 62\n"
     ]
    }
   ],
   "source": [
    "stuff = {'rope' : 1, 'torch' : 6, 'gold coin' : 42, 'dagger' : 1, 'arrow' : 12 }\n",
    "\n",
    "def inventory(dictionary):\n",
    "    print('Inventory:')\n",
    "    num = 0\n",
    "    for k,v in dictionary.items():\n",
    "        print(str(v) + ' ' + k)\n",
    "        num = num + v\n",
    "    print('Total number of items: ' + str(num))\n",
    "\n",
    "inventory(stuff)\n",
    "\n"
   ]
  },
  {
   "cell_type": "markdown",
   "metadata": {},
   "source": [
    "Book's code"
   ]
  },
  {
   "cell_type": "code",
   "execution_count": 23,
   "metadata": {},
   "outputs": [
    {
     "name": "stdout",
     "output_type": "stream",
     "text": [
      "Inventory:\n",
      "1 rope\n",
      "6 torch\n",
      "42 gold coin\n",
      "1 dagger\n",
      "12 arrow\n",
      "Total number of items: 62\n"
     ]
    }
   ],
   "source": [
    "stuff = {'rope': 1, 'torch': 6, 'gold coin': 42, 'dagger': 1, 'arrow': 12}\n",
    "def displayInventory(inventory):\n",
    "    print(\"Inventory:\")\n",
    "    item_total = 0\n",
    "    for k, v in inventory.items():\n",
    "        print(str(v) + ' ' + k)\n",
    "        item_total += v\n",
    "    print(\"Total number of items: \" + str(item_total))\n",
    "displayInventory(stuff)"
   ]
  },
  {
   "cell_type": "markdown",
   "metadata": {},
   "source": [
    "### List to Dictionary Function for Fantasy Game Inventory\n",
    "\n",
    "Imagine that a vanquished dragon’s loot is represented as a list of strings like this:\n",
    "\n",
    "             dragonLoot = ['gold coin', 'dagger', 'gold coin', 'gold coin', 'ruby']\n",
    "             \n",
    "Write a function named addToInventory(inventory, addedItems), where the inventory parameter is a dictionary representing the player’s inventory (like in the previous project) and the addedItems parameter is a list like dragonLoot."
   ]
  },
  {
   "cell_type": "code",
   "execution_count": 42,
   "metadata": {},
   "outputs": [
    {
     "name": "stdout",
     "output_type": "stream",
     "text": [
      "Inventory: \n",
      "45 gold coin\n",
      "1 rope\n",
      "1 ruby\n",
      "1 dagger\n",
      "\n",
      "Total number of items: \n"
     ]
    }
   ],
   "source": [
    "dragonLoot = ['gold coin','dagger','gold coin', 'gold coin','ruby']\n",
    "inv = {'gold coin' : 42, 'rope' : 1}\n",
    "\n",
    "print('Inventory: ')\n",
    "print(str(inv.get('gold coin',0) + dragonLoot.count('gold coin')) + ' ' + 'gold coin')\n",
    "print(str(inv.get('rope',0) + dragonLoot.count('rope')) + ' ' + 'rope')\n",
    "print(str(inv.get('ruby',0) + dragonLoot.count('ruby')) + ' ' + 'ruby')\n",
    "print(str(inv.get('dagger',0) + dragonLoot.count('dagger')) + ' ' + 'dagger')\n",
    "print('')\n",
    "print('Total number of items: ' )\n",
    "\n",
    "\n",
    "\n"
   ]
  },
  {
   "cell_type": "code",
   "execution_count": null,
   "metadata": {},
   "outputs": [],
   "source": []
  }
 ],
 "metadata": {
  "kernelspec": {
   "display_name": "base",
   "language": "python",
   "name": "python3"
  },
  "language_info": {
   "codemirror_mode": {
    "name": "ipython",
    "version": 3
   },
   "file_extension": ".py",
   "mimetype": "text/x-python",
   "name": "python",
   "nbconvert_exporter": "python",
   "pygments_lexer": "ipython3",
   "version": "3.10.14"
  }
 },
 "nbformat": 4,
 "nbformat_minor": 2
}
