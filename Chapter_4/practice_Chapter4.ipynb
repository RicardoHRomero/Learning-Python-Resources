{
 "cells": [
  {
   "cell_type": "markdown",
   "metadata": {},
   "source": [
    "# Practice Chapter 4"
   ]
  },
  {
   "cell_type": "code",
   "execution_count": null,
   "metadata": {},
   "outputs": [],
   "source": []
  },
  {
   "cell_type": "markdown",
   "metadata": {},
   "source": [
    "## Practice Projects"
   ]
  },
  {
   "cell_type": "markdown",
   "metadata": {},
   "source": [
    "### Comma code\n",
    "\n",
    "Say you have a list value like this:\n",
    "\n",
    "\n",
    "             spam = ['apples', 'bananas', 'tofu', 'cats']\n",
    "\n",
    "             \n",
    "Write a function that takes a list value as an argument and returns\n",
    "a string with all the items separated by a comma and a space, with and inserted before the last item. For example, passing the previous spam list to the function would return 'apples, bananas, tofu, and cats'. But your func- tion should be able to work with any list value passed to it."
   ]
  },
  {
   "cell_type": "code",
   "execution_count": 33,
   "metadata": {},
   "outputs": [
    {
     "name": "stdout",
     "output_type": "stream",
     "text": [
      "Enter your items and enter to nothing stop: \n",
      "apples, bananas, tofu, and cats.\n"
     ]
    }
   ],
   "source": [
    "def listItems():\n",
    "    listValue = []\n",
    "    print('Enter your items and enter to nothing stop: ')\n",
    "    while True:\n",
    "        name = input()\n",
    "        if name == '':\n",
    "            break\n",
    "        listValue = listValue + [name]\n",
    "\n",
    "    if len(listValue) > 1:\n",
    "        listValue[-1] = 'and ' + listValue[-1] + '.'\n",
    "        print(', '.join(listValue))\n",
    "    else:\n",
    "        print(', '.join(listValue))\n",
    "\n",
    "listItems()\n"
   ]
  },
  {
   "cell_type": "markdown",
   "metadata": {},
   "source": [
    "### Character Picture Grid\n",
    "\n",
    "Say you have a list of lists where each value in the inner lists is a one-character string, like this:\n",
    "\n",
    "\n",
    "grid = [['.', '.', '.', '.', '.', '.'],\n",
    "        ['.', 'O', 'O', '.', '.', '.'],\n",
    "        ['O', 'O', 'O', 'O', '.', '.'],\n",
    "        ['O', 'O', 'O', 'O', 'O', '.'],\n",
    "        ['.', 'O', 'O', 'O', 'O', 'O'],\n",
    "        ['O', 'O', 'O', 'O', 'O', '.'],\n",
    "        ['O', 'O', 'O', 'O', '.', '.'],\n",
    "        ['.', 'O', 'O', '.', '.', '.'],\n",
    "        ['.', '.', '.', '.', '.', '.']]\n",
    "\n",
    "\n",
    "You can think of grid[x][y] as being the character at the x- and y-coordinates of a “picture” drawn with text characters. The (0, 0) origin will be in the upper-left corner, the x-coordinates increase going right, and w the y-coordinates increase going down.\n",
    "Copy the previous grid value, and write code that uses it to print the image.\n",
    "\n",
    "\n",
    "..OO.OO..\n",
    "\n",
    ".OOOOOOO.\n",
    "\n",
    ".OOOOOOO.\n",
    "\n",
    "..OOOOO..\n",
    "\n",
    "...OOO...\n",
    "\n",
    "....O....\n",
    "\n",
    "\n",
    "Hint: You will need to use a loop in a loop in order to print grid[0][0], then grid[1][0], then grid[2][0], and so on, up to grid[8][0]. This will fin- ish the first row, so then print a newline. Then your program should print grid[0][1], then grid[1][1], then grid[2][1], and so on. The last thing your program will print is grid[8][5].\n",
    "Also, remember to pass the end keyword argument to print() if you don’t want a newline printed automatically after each print() call."
   ]
  },
  {
   "cell_type": "code",
   "execution_count": 35,
   "metadata": {},
   "outputs": [
    {
     "data": {
      "text/plain": [
       "[['.', '.', '.', '.', '.', '.'],\n",
       " ['.', 'O', 'O', '.', '.', '.'],\n",
       " ['O', 'O', 'O', 'O', '.', '.'],\n",
       " ['O', 'O', 'O', 'O', 'O', '.'],\n",
       " ['.', 'O', 'O', 'O', 'O', 'O'],\n",
       " ['O', 'O', 'O', 'O', 'O', '.'],\n",
       " ['O', 'O', 'O', 'O', '.', '.'],\n",
       " ['.', 'O', 'O', '.', '.', '.'],\n",
       " ['.', '.', '.', '.', '.', '.']]"
      ]
     },
     "execution_count": 35,
     "metadata": {},
     "output_type": "execute_result"
    }
   ],
   "source": [
    "\n",
    "grid = [['.', '.', '.', '.', '.', '.'],\n",
    "        ['.', 'O', 'O', '.', '.', '.'],\n",
    "        ['O', 'O', 'O', 'O', '.', '.'],\n",
    "        ['O', 'O', 'O', 'O', 'O', '.'],\n",
    "        ['.', 'O', 'O', 'O', 'O', 'O'],\n",
    "        ['O', 'O', 'O', 'O', 'O', '.'],\n",
    "        ['O', 'O', 'O', 'O', '.', '.'],\n",
    "        ['.', 'O', 'O', '.', '.', '.'],\n",
    "        ['.', '.', '.', '.', '.', '.']]\n",
    "grid"
   ]
  },
  {
   "cell_type": "code",
   "execution_count": 125,
   "metadata": {},
   "outputs": [
    {
     "name": "stdout",
     "output_type": "stream",
     "text": [
      "......\n",
      ".OO...\n",
      "OOOO..\n",
      "OOOOO.\n",
      ".OOOOO\n",
      "OOOOO.\n",
      "OOOO..\n",
      ".OO...\n",
      "......\n"
     ]
    }
   ],
   "source": [
    "for x in range(len(grid)):\n",
    "   for y in range(len(grid[0])):\n",
    "      print(grid[x][y], end='')\n",
    "   print()"
   ]
  },
  {
   "cell_type": "code",
   "execution_count": 119,
   "metadata": {},
   "outputs": [
    {
     "name": "stdout",
     "output_type": "stream",
     "text": [
      "..OO.OO..\n",
      ".OOOOOOO.\n",
      ".OOOOOOO.\n",
      "..OOOOO..\n",
      "...OOO...\n",
      "....O....\n"
     ]
    }
   ],
   "source": [
    "for y in range(len(grid[0])):\n",
    "   for x in range(len(grid)):\n",
    "      print(grid[x][y], end='')\n",
    "   print()\n",
    "\n"
   ]
  },
  {
   "cell_type": "code",
   "execution_count": null,
   "metadata": {},
   "outputs": [],
   "source": []
  }
 ],
 "metadata": {
  "kernelspec": {
   "display_name": "base",
   "language": "python",
   "name": "python3"
  },
  "language_info": {
   "codemirror_mode": {
    "name": "ipython",
    "version": 3
   },
   "file_extension": ".py",
   "mimetype": "text/x-python",
   "name": "python",
   "nbconvert_exporter": "python",
   "pygments_lexer": "ipython3",
   "version": "3.10.14"
  }
 },
 "nbformat": 4,
 "nbformat_minor": 2
}
