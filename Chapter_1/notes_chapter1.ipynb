{
 "cells": [
  {
   "cell_type": "markdown",
   "metadata": {},
   "source": [
    "# Chapter 1: Python Basics"
   ]
  },
  {
   "cell_type": "markdown",
   "metadata": {},
   "source": [
    "## Entering expressions into the interactive Shell\n",
    "Pg 14.\n"
   ]
  },
  {
   "cell_type": "markdown",
   "metadata": {},
   "source": [
    "In Python, 2 + 2 is called an expression, which is the most basic kind of programming instruction in the language. Expressions consist of values (such as 2) and operators (such as +), and they can always evaluate (that is, reduce) down to a single value.."
   ]
  },
  {
   "cell_type": "code",
   "execution_count": 12,
   "metadata": {},
   "outputs": [
    {
     "data": {
      "text/plain": [
       "4"
      ]
     },
     "execution_count": 12,
     "metadata": {},
     "output_type": "execute_result"
    }
   ],
   "source": [
    "2+2"
   ]
  },
  {
   "cell_type": "markdown",
   "metadata": {},
   "source": [
    "Math Operators from Highest to Lowest Precedence\n",
    "\n",
    "| Operator | Operation | \n",
    "|--------------|--------------|\n",
    "| **       | Exponent       | \n",
    "| %      | Modulus      |\n",
    "| //      | Integer Division      |\n",
    "| /      | Division      |\n",
    "| *      | Multiplication     |\n",
    "| -      | Substraction    |\n",
    "| +      | Adition     |\n",
    "\n",
    "\n"
   ]
  },
  {
   "cell_type": "code",
   "execution_count": 22,
   "metadata": {},
   "outputs": [
    {
     "name": "stdout",
     "output_type": "stream",
     "text": [
      "20\n",
      "30\n",
      "256\n",
      "3\n",
      "3.2857142857142856\n",
      "2\n",
      "16.0\n"
     ]
    }
   ],
   "source": [
    "# First Calculation\n",
    "print(2 + 3 * 6)\n",
    "\n",
    "# Second Calculation\n",
    "print( ( 2 + 3 ) * 6 )\n",
    "\n",
    "# Third Calculation\n",
    "print(2 ** 8)\n",
    "\n",
    "# Fourth Calculation\n",
    "print(23 // 7)\n",
    "\n",
    "# Fifth Calculation\n",
    "print(23 / 7)\n",
    "\n",
    "# Sixth Calculation\n",
    "print(23 % 7)\n",
    "\n",
    "# Seventh Calculation\n",
    "print((5 - 1) * ((7 + 1) / (3 - 1)))\n",
    "\n"
   ]
  },
  {
   "cell_type": "markdown",
   "metadata": {},
   "source": [
    "## The integer, floating-Point, and String data types"
   ]
  },
  {
   "cell_type": "markdown",
   "metadata": {},
   "source": [
    "| Data Type | Examples | \n",
    "|--------------|--------------|\n",
    "| Integeres | -2,-1,0,1,2 |\n",
    "| Floating-Point numbers | -1.25,-1.0,0.0,1.0,1.25 |\n",
    "| Strings |'a','aa','Hello!'|\n",
    "\n",
    "Important: (') Python knows where the string begins and ends"
   ]
  },
  {
   "cell_type": "markdown",
   "metadata": {},
   "source": []
  },
  {
   "cell_type": "markdown",
   "metadata": {},
   "source": [
    "# String concatenation and replication\n"
   ]
  },
  {
   "cell_type": "markdown",
   "metadata": {},
   "source": [
    " When + is used on two string values, it joins the strings as the _string concatenation operator_."
   ]
  },
  {
   "cell_type": "code",
   "execution_count": 9,
   "metadata": {},
   "outputs": [
    {
     "data": {
      "text/plain": [
       "'Alice Alice Alice Alice Alice '"
      ]
     },
     "execution_count": 9,
     "metadata": {},
     "output_type": "execute_result"
    }
   ],
   "source": [
    "'Alice' + 'Bob' "
   ]
  },
  {
   "cell_type": "markdown",
   "metadata": {},
   "source": [
    "When the * operator is used on one string value and one integer value, it becomes the _string replication operator_. "
   ]
  },
  {
   "cell_type": "code",
   "execution_count": 10,
   "metadata": {},
   "outputs": [
    {
     "data": {
      "text/plain": [
       "'Alice Alice Alice Alice Alice '"
      ]
     },
     "execution_count": 10,
     "metadata": {},
     "output_type": "execute_result"
    }
   ],
   "source": [
    "'Alice '*5"
   ]
  },
  {
   "cell_type": "markdown",
   "metadata": {},
   "source": [
    "## Storing Values in Variables\n",
    "\n",
    "A _variable_ is like a box in the computer’s memory where you can store a single value. \n",
    "\n",
    "### Assignment Statements\n",
    "An _assignment statement_ consists of a variable name, an equal sign (called the assignment operator), and the value to be stored."
   ]
  },
  {
   "cell_type": "code",
   "execution_count": 20,
   "metadata": {},
   "outputs": [],
   "source": [
    "spam = 40\n",
    "eggs = 2"
   ]
  },
  {
   "cell_type": "code",
   "execution_count": 15,
   "metadata": {},
   "outputs": [
    {
     "data": {
      "text/plain": [
       "42"
      ]
     },
     "execution_count": 15,
     "metadata": {},
     "output_type": "execute_result"
    }
   ],
   "source": [
    "spam + eggs"
   ]
  },
  {
   "cell_type": "code",
   "execution_count": 22,
   "metadata": {},
   "outputs": [
    {
     "data": {
      "text/plain": [
       "44"
      ]
     },
     "execution_count": 22,
     "metadata": {},
     "output_type": "execute_result"
    }
   ],
   "source": [
    "spam = spam + 2\n",
    "spam"
   ]
  },
  {
   "cell_type": "markdown",
   "metadata": {},
   "source": [
    "the old value is forgotten, which is why spam evaluated to 42 instead of 40 at the end of the example."
   ]
  },
  {
   "cell_type": "markdown",
   "metadata": {},
   "source": [
    "## My first program"
   ]
  },
  {
   "cell_type": "code",
   "execution_count": 38,
   "metadata": {},
   "outputs": [
    {
     "name": "stdout",
     "output_type": "stream",
     "text": [
      "Hello World\n",
      "What is your name?\n",
      "It is good to meet you, Ricardo\n",
      "The length of your name is: \n",
      "7\n",
      "What is your age?\n",
      "You will be 27 in a year\n"
     ]
    }
   ],
   "source": [
    "# This program say hello and ask for my name \n",
    "print('Hello World')\n",
    "print('What is your name?') #ask for their name\n",
    "myName = input()\n",
    "print('It is good to meet you, ' + myName)\n",
    "print('The length of your name is: ') \n",
    "print(len(myName))\n",
    "print('What is your age?')\n",
    "myAge = input()\n",
    "print('You will be ' + str(int(myAge) + 1) + ' in a year')\n"
   ]
  },
  {
   "cell_type": "markdown",
   "metadata": {},
   "source": [
    "## Dissecting my program\n",
    "* The print() function: displays the string value inside the parentheses on the screen.\n",
    "* The input() function: waits for the user to type some text on the keyboard and press enter.\n",
    "* The len() function:  the function evaluates to the integer value of the number of characters in that string.\n",
    "* The str(), int(), and float() functions will evaluate to the string, inte- ger, and floating-point forms of the value you pass, respectively. "
   ]
  },
  {
   "cell_type": "code",
   "execution_count": 39,
   "metadata": {},
   "outputs": [
    {
     "data": {
      "text/plain": [
       "'29'"
      ]
     },
     "execution_count": 39,
     "metadata": {},
     "output_type": "execute_result"
    }
   ],
   "source": [
    "x=input() #Provides a string value. It is necessary to clarify which variable is being referred to.\n",
    "x"
   ]
  }
 ],
 "metadata": {
  "kernelspec": {
   "display_name": "base",
   "language": "python",
   "name": "python3"
  },
  "language_info": {
   "codemirror_mode": {
    "name": "ipython",
    "version": 3
   },
   "file_extension": ".py",
   "mimetype": "text/x-python",
   "name": "python",
   "nbconvert_exporter": "python",
   "pygments_lexer": "ipython3",
   "version": "3.10.9"
  }
 },
 "nbformat": 4,
 "nbformat_minor": 2
}
