{
 "cells": [
  {
   "cell_type": "markdown",
   "metadata": {},
   "source": [
    "# Chapter 1"
   ]
  },
  {
   "cell_type": "markdown",
   "metadata": {},
   "source": [
    "## Entering expressions into the interactive Shell\n",
    "Pg 14.\n"
   ]
  },
  {
   "cell_type": "markdown",
   "metadata": {},
   "source": [
    "In Python, 2 + 2 is called an expression, which is the most basic kind of programming instruction in the language. Expressions consist of values (such as 2) and operators (such as +), and they can always evaluate (that is, reduce) down to a single value.."
   ]
  },
  {
   "cell_type": "code",
   "execution_count": 12,
   "metadata": {},
   "outputs": [
    {
     "data": {
      "text/plain": [
       "4"
      ]
     },
     "execution_count": 12,
     "metadata": {},
     "output_type": "execute_result"
    }
   ],
   "source": [
    "2+2"
   ]
  },
  {
   "cell_type": "markdown",
   "metadata": {},
   "source": [
    "Math Operators from Highest to Lowest Precedence\n",
    "\n",
    "| Operator | Operation | \n",
    "|--------------|--------------|\n",
    "| **       | Exponent       | \n",
    "| %      | Modulus      |\n",
    "| //      | Integer Division      |\n",
    "| /      | Division      |\n",
    "| *      | Multiplication     |\n",
    "| -      | Substraction    |\n",
    "| +      | Adition     |\n",
    "\n",
    "\n"
   ]
  },
  {
   "cell_type": "code",
   "execution_count": 22,
   "metadata": {},
   "outputs": [
    {
     "name": "stdout",
     "output_type": "stream",
     "text": [
      "20\n",
      "30\n",
      "256\n",
      "3\n",
      "3.2857142857142856\n",
      "2\n",
      "16.0\n"
     ]
    }
   ],
   "source": [
    "# First Calculation\n",
    "print(2 + 3 * 6)\n",
    "\n",
    "# Second Calculation\n",
    "print( ( 2 + 3 ) * 6 )\n",
    "\n",
    "# Third Calculation\n",
    "print(2 ** 8)\n",
    "\n",
    "# Fourth Calculation\n",
    "print(23 // 7)\n",
    "\n",
    "# Fifth Calculation\n",
    "print(23 / 7)\n",
    "\n",
    "# Sixth Calculation\n",
    "print(23 % 7)\n",
    "\n",
    "# Seventh Calculation\n",
    "print((5 - 1) * ((7 + 1) / (3 - 1)))\n",
    "\n"
   ]
  },
  {
   "cell_type": "markdown",
   "metadata": {},
   "source": []
  },
  {
   "cell_type": "markdown",
   "metadata": {},
   "source": [
    "## The integer, floating-Point, and String data types"
   ]
  },
  {
   "cell_type": "markdown",
   "metadata": {},
   "source": []
  }
 ],
 "metadata": {
  "kernelspec": {
   "display_name": "base",
   "language": "python",
   "name": "python3"
  },
  "language_info": {
   "codemirror_mode": {
    "name": "ipython",
    "version": 3
   },
   "file_extension": ".py",
   "mimetype": "text/x-python",
   "name": "python",
   "nbconvert_exporter": "python",
   "pygments_lexer": "ipython3",
   "version": "3.10.9"
  }
 },
 "nbformat": 4,
 "nbformat_minor": 2
}
