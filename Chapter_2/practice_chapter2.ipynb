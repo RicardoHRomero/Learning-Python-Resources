{
 "cells": [
  {
   "cell_type": "markdown",
   "metadata": {},
   "source": [
    "# Practice Chapter 2"
   ]
  },
  {
   "cell_type": "markdown",
   "metadata": {},
   "source": [
    "1. What are the two values of the Boolean data type? How do you write them?\n",
    "   \n",
    "   True and False"
   ]
  },
  {
   "cell_type": "markdown",
   "metadata": {},
   "source": [
    "2. What are the three Boolean operators?\n",
    "\n",
    "    and, or and not\n",
    "\n"
   ]
  },
  {
   "cell_type": "markdown",
   "metadata": {},
   "source": [
    "3. Write out the truth tables of each Boolean operator (that is, every possible combination of Boolean values for the operator and what they evaluate to).\n",
    "   \n",
    "    | Expression  | Evaluates to  |\n",
    "    | ----- | ------ |\n",
    "    |  True and True |  True |\n",
    "    | True and False  | False  |\n",
    "    | False and True  | False  |\n",
    "    | False and False  | False  |\n",
    "\n",
    "    | Expression  | Evaluates to  |\n",
    "    | ----- | ------ |\n",
    "    |  True or True |  True |\n",
    "    | True or False  | True  |\n",
    "    | False or True  | True  |\n",
    "    | False or False  | False  |\n",
    "\n",
    "    | Expression  | Evaluates to  |\n",
    "    | ----- | ------ |\n",
    "    |  not True |  False |\n",
    "    | not False  | True  |\n",
    "\n",
    "\n",
    "     \n"
   ]
  },
  {
   "cell_type": "markdown",
   "metadata": {},
   "source": [
    "4. What do the following expressions evaluate to?\n",
    "   \n",
    "   (5 > 4) and (3 == 5)                 True and False -> False\n",
    "\n",
    "   not (5 > 4)                          not True -> False\n",
    "\n",
    "   (5 > 4) or (3 == 5)                  True or False -> True\n",
    "\n",
    "   not ((5 > 4) or (3 == 5))              not (True or False) -> not True -> False\n",
    "\n",
    "   (True and True) and (True == False)    True and False -> False\n",
    "   \n",
    "   (not False) or (not True)              True or False  -> True\n"
   ]
  },
  {
   "cell_type": "markdown",
   "metadata": {},
   "source": [
    "5. What are the six comparison operators?\n",
    "\n",
    "\n",
    "    | Operator  | Meaning  |\n",
    "    |---- | ---- |\n",
    "    | == | Equal to |\n",
    "    | != | Not equal to |\n",
    "    | < | Less than |\n",
    "    | > | Greater than |\n",
    "    | <= | Less than or equal to |\n",
    "    | >= | Greater than or equal to |"
   ]
  },
  {
   "cell_type": "markdown",
   "metadata": {},
   "source": [
    "6. What is the difference between the equal to operator and the assignment operator?\n",
    "7. Explain what a condition is and where you would use one.\n",
    "   \n",
    "   Assigment Operator: Consist of a variable name, an equal sign, and the value to be stored. \n",
    "              \n",
    "              spam = 40\n",
    "         \n",
    "   Equal Operator: Evaluates to True when the values on both sides are the same\n",
    "\n",
    "               'hello' == 'hello'\n",
    "               True\n"
   ]
  },
  {
   "cell_type": "markdown",
   "metadata": {},
   "source": [
    "8. Identify the three blocks in this code:"
   ]
  },
  {
   "cell_type": "code",
   "execution_count": 14,
   "metadata": {},
   "outputs": [
    {
     "name": "stdout",
     "output_type": "stream",
     "text": [
      "eggs\n",
      "bacon\n",
      "spam\n",
      "spam\n"
     ]
    }
   ],
   "source": [
    "spam = 10                   # 1st Block\n",
    "if spam == 10:              # 1st Block\n",
    "    print('eggs')           # 2nd Block\n",
    "    if spam > 5:            # 2nd Block\n",
    "        print('bacon')      # 3rd Block\n",
    "    else:                   # 2nd Block\n",
    "        print('ham')        # 3rd Block\n",
    "    print('spam')           # 2nd Block\n",
    "print('spam')               # 1st Block"
   ]
  },
  {
   "cell_type": "markdown",
   "metadata": {},
   "source": [
    "9. Write code that prints Hello if 1 is stored in spam, prints Howdy if 2 is\n",
    "stored in spam, and prints Greetings! if anything else is stored in spam."
   ]
  },
  {
   "cell_type": "code",
   "execution_count": 18,
   "metadata": {},
   "outputs": [
    {
     "name": "stdout",
     "output_type": "stream",
     "text": [
      "Add a values to Spam\n",
      "Greetings\n"
     ]
    }
   ],
   "source": [
    "print('Add a values to Spam')\n",
    "spam = int(input())\n",
    "if spam == 1:\n",
    "    print('Hello')\n",
    "elif spam == 2:\n",
    "    print('Howdy')\n",
    "else:\n",
    "    print('Greetings')"
   ]
  },
  {
   "cell_type": "markdown",
   "metadata": {},
   "source": [
    "10. What can you press if your program is stuck in an infinite loop?\n",
    "\n",
    "    Depends on the code editor"
   ]
  },
  {
   "cell_type": "markdown",
   "metadata": {},
   "source": []
  },
  {
   "cell_type": "markdown",
   "metadata": {},
   "source": [
    "11. What is the difference between break and continue?\n",
    "    \n",
    "    Break:  If the execution reaches a break statement, it immedi- ately exits the while loop’s clause\n",
    "\n",
    "    Continues:  When the program execution reaches a continue statement, the program execution immediately jumps back to the start of the loop and reevaluates the loop’s condition."
   ]
  },
  {
   "cell_type": "markdown",
   "metadata": {},
   "source": [
    "12. What is the difference between range(10), range(0, 10), and range(0, 10, 1) in a for loop?"
   ]
  },
  {
   "cell_type": "markdown",
   "metadata": {},
   "source": [
    " This generates a sequence of numbers starting from 0 (inclusive) up to, but not including, 10. It increments by 1 by default."
   ]
  },
  {
   "cell_type": "code",
   "execution_count": 20,
   "metadata": {},
   "outputs": [
    {
     "name": "stdout",
     "output_type": "stream",
     "text": [
      "0\n",
      "1\n",
      "2\n",
      "3\n",
      "4\n",
      "5\n",
      "6\n",
      "7\n",
      "8\n",
      "9\n"
     ]
    }
   ],
   "source": [
    "for i in range(10): \n",
    "    print(i)"
   ]
  },
  {
   "cell_type": "markdown",
   "metadata": {},
   "source": [
    "This also generates a sequence of numbers starting from 0 (inclusive) up to, but not including, 10. It explicitly specifies the start (0) and the end (10) values, but it still increments by 1 by default."
   ]
  },
  {
   "cell_type": "code",
   "execution_count": 21,
   "metadata": {},
   "outputs": [
    {
     "name": "stdout",
     "output_type": "stream",
     "text": [
      "0\n",
      "1\n",
      "2\n",
      "3\n",
      "4\n",
      "5\n",
      "6\n",
      "7\n",
      "8\n",
      "9\n"
     ]
    }
   ],
   "source": [
    "for i in range(0,10): #\n",
    "    print(i)"
   ]
  },
  {
   "cell_type": "markdown",
   "metadata": {},
   "source": [
    "This generates a sequence of numbers starting from 0 (inclusive) up to, but not including, 10. It explicitly specifies the start (0), the end (10), and the step (1) values."
   ]
  },
  {
   "cell_type": "code",
   "execution_count": 22,
   "metadata": {},
   "outputs": [
    {
     "name": "stdout",
     "output_type": "stream",
     "text": [
      "0\n",
      "1\n",
      "2\n",
      "3\n",
      "4\n",
      "5\n",
      "6\n",
      "7\n",
      "8\n",
      "9\n"
     ]
    }
   ],
   "source": [
    "for i in range(0,10,1):\n",
    "    print(i)"
   ]
  },
  {
   "cell_type": "markdown",
   "metadata": {},
   "source": [
    "13. Write a short program that prints the numbers 1 to 10 using a for loop. Then write an equivalent program that prints the numbers 1 to 10 using a while loop."
   ]
  },
  {
   "cell_type": "code",
   "execution_count": 25,
   "metadata": {},
   "outputs": [
    {
     "name": "stdout",
     "output_type": "stream",
     "text": [
      "1\n",
      "2\n",
      "3\n",
      "4\n",
      "5\n",
      "6\n",
      "7\n",
      "8\n",
      "9\n",
      "10\n"
     ]
    }
   ],
   "source": [
    "for i in range(10):\n",
    "    i = i + 1\n",
    "    print(i)"
   ]
  },
  {
   "cell_type": "code",
   "execution_count": 26,
   "metadata": {},
   "outputs": [
    {
     "name": "stdout",
     "output_type": "stream",
     "text": [
      "1\n",
      "2\n",
      "3\n",
      "4\n",
      "5\n",
      "6\n",
      "7\n",
      "8\n",
      "9\n",
      "10\n"
     ]
    }
   ],
   "source": [
    "i = 0\n",
    "while i < 10 :\n",
    "    i = i + 1\n",
    "    print(i)\n",
    "    "
   ]
  },
  {
   "cell_type": "markdown",
   "metadata": {},
   "source": [
    "14. If you had a function named bacon() inside a module named spam, how would you call it after importing spam?"
   ]
  },
  {
   "cell_type": "code",
   "execution_count": 33,
   "metadata": {},
   "outputs": [
    {
     "name": "stdout",
     "output_type": "stream",
     "text": [
      "¡Este es el módulo spam y la función bacon fue llamada!\n"
     ]
    }
   ],
   "source": [
    "\n",
    "import spam\n",
    "\n",
    "spam.bacon()\n"
   ]
  },
  {
   "cell_type": "code",
   "execution_count": null,
   "metadata": {},
   "outputs": [],
   "source": []
  }
 ],
 "metadata": {
  "kernelspec": {
   "display_name": "base",
   "language": "python",
   "name": "python3"
  },
  "language_info": {
   "codemirror_mode": {
    "name": "ipython",
    "version": 3
   },
   "file_extension": ".py",
   "mimetype": "text/x-python",
   "name": "python",
   "nbconvert_exporter": "python",
   "pygments_lexer": "ipython3",
   "version": "3.10.9"
  }
 },
 "nbformat": 4,
 "nbformat_minor": 2
}
